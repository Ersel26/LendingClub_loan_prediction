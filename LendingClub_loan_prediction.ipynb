{
  "nbformat": 4,
  "nbformat_minor": 0,
  "metadata": {
    "colab": {
      "provenance": [],
      "collapsed_sections": [],
      "mount_file_id": "1JIjogX2ujMrkNI8pFgeNRb35BLPedi7X",
      "authorship_tag": "ABX9TyNIPSfsy+qjg0shvrMDeH7W",
      "include_colab_link": true
    },
    "kernelspec": {
      "name": "python3",
      "display_name": "Python 3"
    },
    "language_info": {
      "name": "python"
    },
    "accelerator": "GPU"
  },
  "cells": [
    {
      "cell_type": "markdown",
      "metadata": {
        "id": "view-in-github",
        "colab_type": "text"
      },
      "source": [
        "<a href=\"https://colab.research.google.com/github/Ersel26/LendingClub_loan_prediction/blob/main/LendingClub_loan_prediction.ipynb\" target=\"_parent\"><img src=\"https://colab.research.google.com/assets/colab-badge.svg\" alt=\"Open In Colab\"/></a>"
      ]
    },
    {
      "cell_type": "markdown",
      "source": [
        "Import libraries"
      ],
      "metadata": {
        "id": "zWtdsMa6AnYT"
      }
    },
    {
      "cell_type": "code",
      "execution_count": 31,
      "metadata": {
        "id": "T0ma9NYf_caB"
      },
      "outputs": [],
      "source": [
        "import pandas as pd\n",
        "import numpy as np\n",
        "import matplotlib.pyplot as plt\n",
        "import seaborn as sns\n",
        "from sklearn.model_selection import train_test_split\n",
        "from sklearn.preprocessing import MinMaxScaler\n",
        "import tensorflow as tf\n",
        "from tensorflow.keras.models import Sequential\n",
        "from tensorflow.keras.layers import Dense,Dropout\n",
        "from tensorflow.keras.callbacks import EarlyStopping\n",
        "from sklearn.metrics import classification_report, confusion_matrix"
      ]
    },
    {
      "cell_type": "markdown",
      "source": [
        "Read the Data and examine it"
      ],
      "metadata": {
        "id": "k4RMJSxyArxj"
      }
    },
    {
      "cell_type": "code",
      "source": [
        "df = pd.read_csv('/content/drive/MyDrive/Colab Notebooks/lending club/lending_club_loan_two.csv')\n",
        "df.info()"
      ],
      "metadata": {
        "colab": {
          "base_uri": "https://localhost:8080/"
        },
        "id": "QE6NdJVu_-Qq",
        "outputId": "a5897fc8-9423-44e6-987a-c7a5956dc399"
      },
      "execution_count": 2,
      "outputs": [
        {
          "output_type": "stream",
          "name": "stdout",
          "text": [
            "<class 'pandas.core.frame.DataFrame'>\n",
            "RangeIndex: 396030 entries, 0 to 396029\n",
            "Data columns (total 27 columns):\n",
            " #   Column                Non-Null Count   Dtype  \n",
            "---  ------                --------------   -----  \n",
            " 0   loan_amnt             396030 non-null  float64\n",
            " 1   term                  396030 non-null  object \n",
            " 2   int_rate              396030 non-null  float64\n",
            " 3   installment           396030 non-null  float64\n",
            " 4   grade                 396030 non-null  object \n",
            " 5   sub_grade             396030 non-null  object \n",
            " 6   emp_title             373103 non-null  object \n",
            " 7   emp_length            377729 non-null  object \n",
            " 8   home_ownership        396030 non-null  object \n",
            " 9   annual_inc            396030 non-null  float64\n",
            " 10  verification_status   396030 non-null  object \n",
            " 11  issue_d               396030 non-null  object \n",
            " 12  loan_status           396030 non-null  object \n",
            " 13  purpose               396030 non-null  object \n",
            " 14  title                 394275 non-null  object \n",
            " 15  dti                   396030 non-null  float64\n",
            " 16  earliest_cr_line      396030 non-null  object \n",
            " 17  open_acc              396030 non-null  float64\n",
            " 18  pub_rec               396030 non-null  float64\n",
            " 19  revol_bal             396030 non-null  float64\n",
            " 20  revol_util            395754 non-null  float64\n",
            " 21  total_acc             396030 non-null  float64\n",
            " 22  initial_list_status   396030 non-null  object \n",
            " 23  application_type      396030 non-null  object \n",
            " 24  mort_acc              358235 non-null  float64\n",
            " 25  pub_rec_bankruptcies  395495 non-null  float64\n",
            " 26  address               396030 non-null  object \n",
            "dtypes: float64(12), object(15)\n",
            "memory usage: 81.6+ MB\n"
          ]
        }
      ]
    },
    {
      "cell_type": "code",
      "source": [
        "def convert_status(status):\n",
        "    if status == \"Fully Paid\":\n",
        "        return 1\n",
        "    if status == \"Charged Off\":\n",
        "        return 0\n",
        "\n",
        "df[\"loan_repaid\"] = df[\"loan_status\"].apply(convert_status)"
      ],
      "metadata": {
        "id": "lVm4fo3z_-pa"
      },
      "execution_count": 3,
      "outputs": []
    },
    {
      "cell_type": "code",
      "source": [
        "nulls = df.isnull().sum()\n",
        "nulls = nulls.apply(lambda x: 100*(x/len(df)))\n",
        "print(nulls)"
      ],
      "metadata": {
        "id": "HRa8KClB_-3_",
        "colab": {
          "base_uri": "https://localhost:8080/"
        },
        "outputId": "4bf1dfba-3df6-4d8e-9246-21f0482bc508"
      },
      "execution_count": 4,
      "outputs": [
        {
          "output_type": "stream",
          "name": "stdout",
          "text": [
            "loan_amnt               0.000000\n",
            "term                    0.000000\n",
            "int_rate                0.000000\n",
            "installment             0.000000\n",
            "grade                   0.000000\n",
            "sub_grade               0.000000\n",
            "emp_title               5.789208\n",
            "emp_length              4.621115\n",
            "home_ownership          0.000000\n",
            "annual_inc              0.000000\n",
            "verification_status     0.000000\n",
            "issue_d                 0.000000\n",
            "loan_status             0.000000\n",
            "purpose                 0.000000\n",
            "title                   0.443148\n",
            "dti                     0.000000\n",
            "earliest_cr_line        0.000000\n",
            "open_acc                0.000000\n",
            "pub_rec                 0.000000\n",
            "revol_bal               0.000000\n",
            "revol_util              0.069692\n",
            "total_acc               0.000000\n",
            "initial_list_status     0.000000\n",
            "application_type        0.000000\n",
            "mort_acc                9.543469\n",
            "pub_rec_bankruptcies    0.135091\n",
            "address                 0.000000\n",
            "loan_repaid             0.000000\n",
            "dtype: float64\n"
          ]
        }
      ]
    },
    {
      "cell_type": "code",
      "source": [
        "print(df[\"emp_title\"].nunique())"
      ],
      "metadata": {
        "id": "WwR4pCUz__GE",
        "colab": {
          "base_uri": "https://localhost:8080/"
        },
        "outputId": "65c21960-a9e3-46a9-dce6-2e0909fc4f88"
      },
      "execution_count": 5,
      "outputs": [
        {
          "output_type": "stream",
          "name": "stdout",
          "text": [
            "173105\n"
          ]
        }
      ]
    },
    {
      "cell_type": "code",
      "source": [
        "df.drop(\"emp_title\", axis = 1, inplace = True)"
      ],
      "metadata": {
        "id": "uWSc8nOz__TG"
      },
      "execution_count": 6,
      "outputs": []
    },
    {
      "cell_type": "code",
      "source": [
        "emp_co = df[df[\"loan_status\"] == \"Charged Off\"][\"emp_length\"].value_counts()\n",
        "emp_total = df[\"emp_length\"].value_counts()\n",
        "\n",
        "emp_len = emp_co/emp_total\n",
        "\n",
        "emp_len.plot(kind = \"bar\")"
      ],
      "metadata": {
        "id": "2Uue-QpYEDa9",
        "colab": {
          "base_uri": "https://localhost:8080/",
          "height": 324
        },
        "outputId": "41364703-cc98-434c-a31c-7d825326ee66"
      },
      "execution_count": 7,
      "outputs": [
        {
          "output_type": "execute_result",
          "data": {
            "text/plain": [
              "<matplotlib.axes._subplots.AxesSubplot at 0x7fb6fea38950>"
            ]
          },
          "metadata": {},
          "execution_count": 7
        },
        {
          "output_type": "display_data",
          "data": {
            "text/plain": [
              "<Figure size 432x288 with 1 Axes>"
            ],
            "image/png": "[encoded data removed]"
          },
          "metadata": {
            "needs_background": "light"
          }
        }
      ]
    },
    {
      "cell_type": "code",
      "source": [
        "df.drop(\"emp_length\", axis = 1, inplace = True)"
      ],
      "metadata": {
        "id": "a_rRl3FOEDt2"
      },
      "execution_count": 8,
      "outputs": []
    },
    {
      "cell_type": "code",
      "source": [
        "print(df['purpose'].head(10))\n",
        "print(\"\\n\")\n",
        "print(df['title'].head(10))"
      ],
      "metadata": {
        "id": "EPeS5Y62ED98",
        "colab": {
          "base_uri": "https://localhost:8080/"
        },
        "outputId": "7163c654-d728-48f2-b968-c1221910d40e"
      },
      "execution_count": 9,
      "outputs": [
        {
          "output_type": "stream",
          "name": "stdout",
          "text": [
            "0              vacation\n",
            "1    debt_consolidation\n",
            "2           credit_card\n",
            "3           credit_card\n",
            "4           credit_card\n",
            "5    debt_consolidation\n",
            "6      home_improvement\n",
            "7           credit_card\n",
            "8    debt_consolidation\n",
            "9    debt_consolidation\n",
            "Name: purpose, dtype: object\n",
            "\n",
            "\n",
            "0                   Vacation\n",
            "1         Debt consolidation\n",
            "2    Credit card refinancing\n",
            "3    Credit card refinancing\n",
            "4      Credit Card Refinance\n",
            "5         Debt consolidation\n",
            "6           Home improvement\n",
            "7       No More Credit Cards\n",
            "8         Debt consolidation\n",
            "9         Debt Consolidation\n",
            "Name: title, dtype: object\n"
          ]
        }
      ]
    },
    {
      "cell_type": "code",
      "source": [
        "df.drop(\"title\", axis = 1, inplace = True)"
      ],
      "metadata": {
        "id": "k38E5GahEaUj"
      },
      "execution_count": 10,
      "outputs": []
    },
    {
      "cell_type": "code",
      "source": [
        "df.corr()[\"mort_acc\"].sort_values()"
      ],
      "metadata": {
        "id": "2oPYhEr2Eagp",
        "colab": {
          "base_uri": "https://localhost:8080/"
        },
        "outputId": "2aac8968-1b59-4272-d55a-4608167aa30d"
      },
      "execution_count": 11,
      "outputs": [
        {
          "output_type": "execute_result",
          "data": {
            "text/plain": [
              "int_rate               -0.082583\n",
              "dti                    -0.025439\n",
              "revol_util              0.007514\n",
              "pub_rec                 0.011552\n",
              "pub_rec_bankruptcies    0.027239\n",
              "loan_repaid             0.073111\n",
              "open_acc                0.109205\n",
              "installment             0.193694\n",
              "revol_bal               0.194925\n",
              "loan_amnt               0.222315\n",
              "annual_inc              0.236320\n",
              "total_acc               0.381072\n",
              "mort_acc                1.000000\n",
              "Name: mort_acc, dtype: float64"
            ]
          },
          "metadata": {},
          "execution_count": 11
        }
      ]
    },
    {
      "cell_type": "code",
      "source": [
        "mort_from_total = df.groupby(\"total_acc\")[\"mort_acc\"].mean()\n",
        "def fill_mort(mort, total):\n",
        "    if np.isnan(mort):\n",
        "        return mort_from_total[total]\n",
        "    else:\n",
        "        return mort\n",
        "    \n",
        "df[\"mort_acc\"] = df.apply(lambda x: fill_mort(x[\"mort_acc\"],x[\"total_acc\"]), axis = 1)"
      ],
      "metadata": {
        "id": "5Ee-kraBEau1"
      },
      "execution_count": 12,
      "outputs": []
    },
    {
      "cell_type": "code",
      "source": [
        "df.dropna(inplace = True)"
      ],
      "metadata": {
        "id": "YiqTeP9jEspf"
      },
      "execution_count": 13,
      "outputs": []
    },
    {
      "cell_type": "code",
      "source": [
        "df.select_dtypes(include = [\"object\"]).columns"
      ],
      "metadata": {
        "id": "eQsxFJ6FEs3m",
        "colab": {
          "base_uri": "https://localhost:8080/"
        },
        "outputId": "c9f4a7c1-95ae-4519-d270-f44a9c5f638a"
      },
      "execution_count": 14,
      "outputs": [
        {
          "output_type": "execute_result",
          "data": {
            "text/plain": [
              "Index(['term', 'grade', 'sub_grade', 'home_ownership', 'verification_status',\n",
              "       'issue_d', 'loan_status', 'purpose', 'earliest_cr_line',\n",
              "       'initial_list_status', 'application_type', 'address'],\n",
              "      dtype='object')"
            ]
          },
          "metadata": {},
          "execution_count": 14
        }
      ]
    },
    {
      "cell_type": "code",
      "source": [
        "df[\"term\"] = df[\"term\"].apply(lambda x: int(x[1:3]))\n"
      ],
      "metadata": {
        "id": "pg9WOZ7GFL25"
      },
      "execution_count": 15,
      "outputs": []
    },
    {
      "cell_type": "code",
      "source": [
        "df.drop(\"grade\", axis = 1, inplace = True)"
      ],
      "metadata": {
        "id": "c1-SwsUKFMI4"
      },
      "execution_count": 16,
      "outputs": []
    },
    {
      "cell_type": "code",
      "source": [
        "def convert_one_hot(df, feature_list):\n",
        "    for i in feature_list:\n",
        "        dummies = pd.get_dummies(df[i], drop_first = True)\n",
        "        df = pd.concat([df.drop(i, axis = 1), dummies], axis = 1)\n",
        "\n",
        "    return df"
      ],
      "metadata": {
        "id": "yQG54drLFdCc"
      },
      "execution_count": 17,
      "outputs": []
    },
    {
      "cell_type": "code",
      "source": [
        "feature_list = [\"sub_grade\", \"verification_status\", \"application_type\", \"initial_list_status\", \"purpose\"]"
      ],
      "metadata": {
        "id": "IZFc1rYYFdf7"
      },
      "execution_count": 18,
      "outputs": []
    },
    {
      "cell_type": "code",
      "source": [
        "df[\"home_ownership\"] = df[\"home_ownership\"].replace([\"NONE\", \"ANY\"], \"OTHER\")\n",
        "feature_list.append(\"home_ownership\")"
      ],
      "metadata": {
        "id": "_G3GMjTQFd4u"
      },
      "execution_count": 19,
      "outputs": []
    },
    {
      "cell_type": "code",
      "source": [
        "df[\"zip_code\"] = df[\"address\"].apply(lambda x: x[-5:])\n",
        "df.drop(\"address\", axis = 1, inplace = True)\n",
        "feature_list.append(\"zip_code\")"
      ],
      "metadata": {
        "id": "gzGtLYurGmoq"
      },
      "execution_count": 20,
      "outputs": []
    },
    {
      "cell_type": "code",
      "source": [
        "df[\"earliest_cr_year\"] = df[\"earliest_cr_line\"].apply(lambda x: int(x[-4:]))\n",
        "df.drop(\"earliest_cr_line\", axis = 1, inplace = True)"
      ],
      "metadata": {
        "id": "Z1PBgYPMGnDX"
      },
      "execution_count": 21,
      "outputs": []
    },
    {
      "cell_type": "code",
      "source": [
        "df.drop(\"issue_d\", axis = True, inplace = True)"
      ],
      "metadata": {
        "id": "-YQNKE_NHbQz"
      },
      "execution_count": 22,
      "outputs": []
    },
    {
      "cell_type": "code",
      "source": [
        "df = convert_one_hot(df, feature_list)"
      ],
      "metadata": {
        "id": "FhChv6WcLetl"
      },
      "execution_count": 23,
      "outputs": []
    },
    {
      "cell_type": "code",
      "source": [
        "df.drop(\"loan_status\", axis = 1, inplace = True)"
      ],
      "metadata": {
        "id": "kgaSw6Y7Hi3R"
      },
      "execution_count": 24,
      "outputs": []
    },
    {
      "cell_type": "code",
      "source": [
        "X = df.drop(\"loan_repaid\", axis = 1)\n",
        "y = df[\"loan_repaid\"]\n",
        "\n",
        "X_train, X_test, y_train, y_test = train_test_split(X, y, test_size=0.2, random_state=101)"
      ],
      "metadata": {
        "id": "n2n3i1zWHjMp"
      },
      "execution_count": 25,
      "outputs": []
    },
    {
      "cell_type": "code",
      "source": [
        "scaler = MinMaxScaler()\n",
        "\n",
        "X_train = scaler.fit_transform(X_train)\n",
        "X_test = scaler.transform(X_test)"
      ],
      "metadata": {
        "id": "OfAHFnOXMOA0"
      },
      "execution_count": 26,
      "outputs": []
    },
    {
      "cell_type": "code",
      "source": [
        "model = Sequential()\n",
        "\n",
        "model.add(Dense(78, activation = \"relu\"))\n",
        "model.add(Dropout(0.2))\n",
        "\n",
        "model.add(Dense(39, activation = \"relu\"))\n",
        "model.add(Dropout(0.2))\n",
        "\n",
        "model.add(Dense(19, activation = \"relu\"))\n",
        "model.add(Dropout(0.2))\n",
        "\n",
        "model.add(Dense(1, activation = \"sigmoid\"))\n",
        "model.compile(optimizer = \"adam\", loss =\"binary_crossentropy\")"
      ],
      "metadata": {
        "id": "t66Y7SCBMSNV"
      },
      "execution_count": 27,
      "outputs": []
    },
    {
      "cell_type": "code",
      "source": [
        "early_stop = EarlyStopping(monitor = \"val_loss\", mode = \"min\", verbose = 1, patience = 5)"
      ],
      "metadata": {
        "id": "giOpAsmYMGft"
      },
      "execution_count": 28,
      "outputs": []
    },
    {
      "cell_type": "code",
      "source": [
        "model.fit(x = X_train, \n",
        "          y = y_train, \n",
        "          batch_size = 256, \n",
        "          epochs = 25, \n",
        "          validation_data = (X_test, y_test),\n",
        "          callbacks = [early_stop])"
      ],
      "metadata": {
        "colab": {
          "base_uri": "https://localhost:8080/"
        },
        "id": "T3dM6IGuMm6P",
        "outputId": "eeb80c5a-7c60-4fb1-c180-a23cfed8384c"
      },
      "execution_count": 29,
      "outputs": [
        {
          "output_type": "stream",
          "name": "stdout",
          "text": [
            "Epoch 1/25\n",
            "1236/1236 [==============================] - 6s 4ms/step - loss: 0.2984 - val_loss: 0.2648\n",
            "Epoch 2/25\n",
            "1236/1236 [==============================] - 5s 4ms/step - loss: 0.2651 - val_loss: 0.2629\n",
            "Epoch 3/25\n",
            "1236/1236 [==============================] - 5s 4ms/step - loss: 0.2628 - val_loss: 0.2629\n",
            "Epoch 4/25\n",
            "1236/1236 [==============================] - 5s 4ms/step - loss: 0.2615 - val_loss: 0.2619\n",
            "Epoch 5/25\n",
            "1236/1236 [==============================] - 5s 4ms/step - loss: 0.2607 - val_loss: 0.2619\n",
            "Epoch 6/25\n",
            "1236/1236 [==============================] - 5s 4ms/step - loss: 0.2605 - val_loss: 0.2617\n",
            "Epoch 7/25\n",
            "1236/1236 [==============================] - 5s 4ms/step - loss: 0.2600 - val_loss: 0.2615\n",
            "Epoch 8/25\n",
            "1236/1236 [==============================] - 5s 4ms/step - loss: 0.2595 - val_loss: 0.2615\n",
            "Epoch 9/25\n",
            "1236/1236 [==============================] - 5s 4ms/step - loss: 0.2593 - val_loss: 0.2616\n",
            "Epoch 10/25\n",
            "1236/1236 [==============================] - 5s 4ms/step - loss: 0.2587 - val_loss: 0.2616\n",
            "Epoch 11/25\n",
            "1236/1236 [==============================] - 5s 4ms/step - loss: 0.2588 - val_loss: 0.2610\n",
            "Epoch 12/25\n",
            "1236/1236 [==============================] - 5s 4ms/step - loss: 0.2585 - val_loss: 0.2613\n",
            "Epoch 13/25\n",
            "1236/1236 [==============================] - 5s 4ms/step - loss: 0.2579 - val_loss: 0.2614\n",
            "Epoch 14/25\n",
            "1236/1236 [==============================] - 5s 4ms/step - loss: 0.2578 - val_loss: 0.2609\n",
            "Epoch 15/25\n",
            "1236/1236 [==============================] - 5s 4ms/step - loss: 0.2577 - val_loss: 0.2610\n",
            "Epoch 16/25\n",
            "1236/1236 [==============================] - 5s 4ms/step - loss: 0.2574 - val_loss: 0.2609\n",
            "Epoch 17/25\n",
            "1236/1236 [==============================] - 5s 4ms/step - loss: 0.2572 - val_loss: 0.2608\n",
            "Epoch 18/25\n",
            "1236/1236 [==============================] - 5s 4ms/step - loss: 0.2571 - val_loss: 0.2611\n",
            "Epoch 19/25\n",
            "1236/1236 [==============================] - 5s 4ms/step - loss: 0.2571 - val_loss: 0.2612\n",
            "Epoch 20/25\n",
            "1236/1236 [==============================] - 5s 4ms/step - loss: 0.2569 - val_loss: 0.2610\n",
            "Epoch 21/25\n",
            "1236/1236 [==============================] - 5s 4ms/step - loss: 0.2568 - val_loss: 0.2612\n",
            "Epoch 22/25\n",
            "1236/1236 [==============================] - 5s 4ms/step - loss: 0.2563 - val_loss: 0.2610\n",
            "Epoch 22: early stopping\n"
          ]
        },
        {
          "output_type": "execute_result",
          "data": {
            "text/plain": [
              "<keras.callbacks.History at 0x7fb6fd917a90>"
            ]
          },
          "metadata": {},
          "execution_count": 29
        }
      ]
    },
    {
      "cell_type": "code",
      "source": [
        "pd.DataFrame(model.history.history).plot()"
      ],
      "metadata": {
        "colab": {
          "base_uri": "https://localhost:8080/",
          "height": 284
        },
        "id": "QMysviZUNPvP",
        "outputId": "ea3f4328-8d97-40cd-daea-c6338aa02125"
      },
      "execution_count": 30,
      "outputs": [
        {
          "output_type": "execute_result",
          "data": {
            "text/plain": [
              "<matplotlib.axes._subplots.AxesSubplot at 0x7fb6fdb797d0>"
            ]
          },
          "metadata": {},
          "execution_count": 30
        },
        {
          "output_type": "display_data",
          "data": {
            "text/plain": [
              "<Figure size 432x288 with 1 Axes>"
            ],
            "image/png": "[encoded data removed]"
          },
          "metadata": {
            "needs_background": "light"
          }
        }
      ]
    },
    {
      "cell_type": "code",
      "source": [
        "predictions = (model.predict(X_test) > 0.5).astype(\"int32\")"
      ],
      "metadata": {
        "id": "GVBbd8qoNbV3"
      },
      "execution_count": 32,
      "outputs": []
    },
    {
      "cell_type": "code",
      "source": [
        "print(classification_report(y_test, predictions))\n",
        "print(\"\\n\")\n",
        "print(confusion_matrix(y_test, predictions))"
      ],
      "metadata": {
        "colab": {
          "base_uri": "https://localhost:8080/"
        },
        "id": "iMS1iYaNNm8P",
        "outputId": "a717c7a7-7ec2-430a-c7eb-b20e3b5959b7"
      },
      "execution_count": 33,
      "outputs": [
        {
          "output_type": "stream",
          "name": "stdout",
          "text": [
            "              precision    recall  f1-score   support\n",
            "\n",
            "           0       0.95      0.46      0.62     15658\n",
            "           1       0.88      0.99      0.93     63386\n",
            "\n",
            "    accuracy                           0.89     79044\n",
            "   macro avg       0.92      0.73      0.78     79044\n",
            "weighted avg       0.89      0.89      0.87     79044\n",
            "\n",
            "\n",
            "\n",
            "[[ 7202  8456]\n",
            " [  390 62996]]\n"
          ]
        }
      ]
    }
  ]
}